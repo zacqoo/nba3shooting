{
 "cells": [
  {
   "cell_type": "markdown",
   "metadata": {
    "raw_mimetype": "text/latex"
   },
   "source": [
    "# NBA's 3 Point Shooting Trend"
   ]
  },
  {
   "cell_type": "markdown",
   "metadata": {},
   "source": [
    "Anyone who have been watching NBA games would have noticed that the league has started shooting more threes. The top winning teams are also the best 3-point shooting teams. Do 3-point shootings actually lead to winning in the NBA? \n",
    "\n",
    "In this project, I: \n",
    "(1) explore possible correlations between 3-point shooting and the winning, and \n",
    "(2) predict the 2016-2017 season results of each team, based on the correlations. "
   ]
  },
  {
   "cell_type": "markdown",
   "metadata": {},
   "source": [
    "The data used in this project are obtained from http://www.basketball-reference.com/"
   ]
  },
  {
   "cell_type": "markdown",
   "metadata": {
    "raw_mimetype": "text/markdown"
   },
   "source": [
    "Datasets: 6 NBA regular season team stats (2011-2017), including the current season (as of March 02 2017).\n",
    "I cleaned the raw data and created the following csv files:\n",
    "(1) All-stat.csv\n",
    "row: the stats for each team in the season. We have 30 games and 6 seasons so there are 30*6 = 180 rows\n",
    "column: [0] 3 made per game, [1] 3 attempt per game, [2] 3%, [3] 2/3 made ratio, [4] 2/3 attempt ratio, [5] eFG%* for each season\n",
    "* eFG%: Effective Field Goal Percentage. This statistic adjusts for the fact that a 3-point field goal is worth one more point than a 2-point field goal\n",
    "\n",
    "(2) All-win-perc.csv\n",
    "The winning percentage for each team in the season. Each row corresponds to the team stats in All-stat.csv."
   ]
  },
  {
   "cell_type": "code",
   "execution_count": 15,
   "metadata": {
    "collapsed": false
   },
   "outputs": [],
   "source": [
    "# Let's take a look of the data\n",
    "import numpy as np\n",
    "import pandas as pd\n",
    "ind_1 = np.genfromtxt(\"All-stat.csv\",delimiter=\" \") # 3 made pg, att pg, %, 2/3 made ratio, 2/3 att ratio, eFG\n",
    "win_perc = np.genfromtxt(\"All-win-perc.csv\",delimiter=\" \") # winning percentage"
   ]
  },
  {
   "cell_type": "code",
   "execution_count": 14,
   "metadata": {
    "collapsed": false
   },
   "outputs": [
    {
     "name": "stdout",
     "output_type": "stream",
     "text": [
      "[  7.4545  20.1515   0.37     0.2026   0.2487   0.5   ]\n",
      "0.606\n"
     ]
    }
   ],
   "source": [
    "print(ind_1[0]) # the stats of first team (Atlanta Hawks) in 2011-2012 season\n",
    "# below shows: in 2011-2012 season Atlanta Hawks had 7.45 3 pointer made per game, 20.15 3 pointer attempt per game\n",
    "# 3 point percentage of 0.37%, 2 point and 3 point made ratio per game and so on.\n",
    "\n",
    "print(win_perc[0]) # the winning percentage of Atlanta Hawks in in 2011-2012 season"
   ]
  },
  {
   "cell_type": "code",
   "execution_count": 12,
   "metadata": {
    "collapsed": true
   },
   "outputs": [],
   "source": [
    "# convert to pandas dataframe\n",
    "df_allstat = pd.DataFrame(ind_1)\n",
    "df_win_perc = pd.DataFrame(win_perc)\n",
    "df_allstat.columns = ['3 made pg','3 att pg','3%','2/3 made ratio','2/3 att ratio','eFG%']"
   ]
  },
  {
   "cell_type": "code",
   "execution_count": 13,
   "metadata": {
    "collapsed": false
   },
   "outputs": [
    {
     "data": {
      "text/plain": [
       "<matplotlib.axes._subplots.AxesSubplot at 0x1103aef28>"
      ]
     },
     "execution_count": 13,
     "metadata": {},
     "output_type": "execute_result"
    },
    {
     "data": {
      "image/png": "[encoded data removed]",
      "text/plain": [
       "<matplotlib.figure.Figure at 0x1103bd828>"
      ]
     },
     "metadata": {},
     "output_type": "display_data"
    }
   ],
   "source": [
    "# examine the correlations for each indicator with winning\n",
    "%matplotlib inline\n",
    "df_allstat.corrwith(df_win_perc[0]).plot.bar()"
   ]
  },
  {
   "cell_type": "markdown",
   "metadata": {
    "collapsed": true
   },
   "source": [
    "Looks like 3 made per game, 3 shooting percentage, and eFG% are better indicators for winning. 3 point attempt is not a good indicator."
   ]
  },
  {
   "cell_type": "markdown",
   "metadata": {},
   "source": [
    "We all know that winning is not only related to offensive indicators but also with defense. Here I added two more columns in the data, which related to defensive factors, along with the best 3 indicators above."
   ]
  },
  {
   "cell_type": "code",
   "execution_count": 17,
   "metadata": {
    "collapsed": true
   },
   "outputs": [],
   "source": [
    "ind_2 = np.genfromtxt(\"All-stat-opp-eFG.csv\",delimiter=\" \") # add two more columns: 1- opp 3%, 1- opp eFG%\n",
    "df_allstat_opp = pd.DataFrame(ind_2)\n",
    "df_allstat_opp.columns = ['3 made pg','3%','eFG%','1- opp 3%','1- opp eFG%']"
   ]
  },
  {
   "cell_type": "markdown",
   "metadata": {},
   "source": [
    "1- opp 3%: opponent's 3 point % per game, 1- opp eFG%: opponent's eFG% per game; I use 1- these two indicators to make them become positive correlation with winning."
   ]
  },
  {
   "cell_type": "code",
   "execution_count": 18,
   "metadata": {
    "collapsed": false
   },
   "outputs": [
    {
     "data": {
      "text/plain": [
       "<matplotlib.axes._subplots.AxesSubplot at 0x110adff60>"
      ]
     },
     "execution_count": 18,
     "metadata": {},
     "output_type": "execute_result"
    },
    {
     "data": {
      "image/png": "[encoded data removed]",
      "text/plain": [
       "<matplotlib.figure.Figure at 0x110adf780>"
      ]
     },
     "metadata": {},
     "output_type": "display_data"
    }
   ],
   "source": [
    "# examine the correlations for each indicator with winning\n",
    "%matplotlib inline\n",
    "df_allstat_opp.corrwith(df_win_perc[0]).plot.bar()"
   ]
  },
  {
   "cell_type": "markdown",
   "metadata": {},
   "source": [
    "Here are the five best 3 point shooting indicators for winning. This probably means that to be able to win the game, you need to have good 3 pointer percentage, a good amount of 3 made per game, as well as restrain oppoenent's 3 point shooting."
   ]
  },
  {
   "cell_type": "markdown",
   "metadata": {},
   "source": [
    "Next, I use the combination of these indicators as input in neural network to predict the winning percentage (output). I set up a multiple layer perception and applied Python Scikin-learn 0.18 and MLPRegressor to fit the data."
   ]
  },
  {
   "cell_type": "markdown",
   "metadata": {},
   "source": [
    "# (1) inputs: 3PM, 3P%, 2/3 M ratio, eFG% in 2011-2017"
   ]
  },
  {
   "cell_type": "code",
   "execution_count": 19,
   "metadata": {
    "collapsed": true
   },
   "outputs": [],
   "source": [
    "X = np.genfromtxt(\"All-stat-noatt.csv\",delimiter=\" \") # data: # 3 made pg, percentage, ratio made, eFG%\n",
    "y = np.genfromtxt(\"All-win-perc.csv\",delimiter=\" \") # target\n",
    "# Split the data into trainning sets and testing sets\n",
    "from sklearn.model_selection import train_test_split\n",
    "X_train, X_test, y_train, y_test = train_test_split(X, y)"
   ]
  },
  {
   "cell_type": "code",
   "execution_count": 20,
   "metadata": {
    "collapsed": false
   },
   "outputs": [
    {
     "data": {
      "text/plain": [
       "StandardScaler(copy=True, with_mean=True, with_std=True)"
      ]
     },
     "execution_count": 20,
     "metadata": {},
     "output_type": "execute_result"
    }
   ],
   "source": [
    "# normalize and scale the data\n",
    "from sklearn.preprocessing import StandardScaler\n",
    "scaler = StandardScaler()\n",
    "# Fit only to the training data\n",
    "scaler.fit(X_train)"
   ]
  },
  {
   "cell_type": "code",
   "execution_count": 21,
   "metadata": {
    "collapsed": true
   },
   "outputs": [],
   "source": [
    "# apply the transformations to the data:\n",
    "X_train = scaler.transform(X_train)\n",
    "X_test = scaler.transform(X_test)"
   ]
  },
  {
   "cell_type": "code",
   "execution_count": 39,
   "metadata": {
    "collapsed": false
   },
   "outputs": [
    {
     "data": {
      "text/plain": [
       "MLPRegressor(activation='relu', alpha=0.0001, batch_size='auto', beta_1=0.9,\n",
       "       beta_2=0.999, early_stopping=False, epsilon=1e-08,\n",
       "       hidden_layer_sizes=(3, 3, 3), learning_rate='constant',\n",
       "       learning_rate_init=0.001, max_iter=200, momentum=0.9,\n",
       "       nesterovs_momentum=True, power_t=0.5, random_state=None,\n",
       "       shuffle=True, solver='lbfgs', tol=0.0001, validation_fraction=0.1,\n",
       "       verbose=False, warm_start=False)"
      ]
     },
     "execution_count": 39,
     "metadata": {},
     "output_type": "execute_result"
    }
   ],
   "source": [
    "from sklearn.neural_network import MLPRegressor #(1)\n",
    "mlp = MLPRegressor(hidden_layer_sizes=(3,3,3),max_iter=200,solver='lbfgs') #(2)\n",
    "mlp.fit(X_train,y_train) #(3)"
   ]
  },
  {
   "cell_type": "code",
   "execution_count": 40,
   "metadata": {
    "collapsed": true
   },
   "outputs": [],
   "source": [
    "predictions = mlp.predict(X_test)"
   ]
  },
  {
   "cell_type": "code",
   "execution_count": 41,
   "metadata": {
    "collapsed": false
   },
   "outputs": [
    {
     "data": {
      "text/plain": [
       "0.44819503423785423"
      ]
     },
     "execution_count": 41,
     "metadata": {},
     "output_type": "execute_result"
    }
   ],
   "source": [
    "mlp.score(X_test, y_test, sample_weight=None) # "
   ]
  },
  {
   "cell_type": "code",
   "execution_count": 42,
   "metadata": {
    "collapsed": true
   },
   "outputs": [],
   "source": [
    "# Sort the data according to winning percentage, better for visualization\n",
    "ind = y_test.argsort()\n",
    "y_test_sort = y_test[ind]\n",
    "predictions_sort = predictions[ind]"
   ]
  },
  {
   "cell_type": "code",
   "execution_count": 44,
   "metadata": {
    "collapsed": false
   },
   "outputs": [
    {
     "name": "stderr",
     "output_type": "stream",
     "text": [
      "//anaconda/lib/python3.5/site-packages/matplotlib/cbook.py:137: MatplotlibDeprecationWarning: The set_color_cycle attribute was deprecated in version 1.5. Use set_prop_cycle instead.\n",
      "  warnings.warn(message, mplDeprecation, stacklevel=1)\n"
     ]
    },
    {
     "data": {
      "image/png": "[encoded data removed]",
      "text/plain": [
       "<matplotlib.figure.Figure at 0x112a52390>"
      ]
     },
     "metadata": {},
     "output_type": "display_data"
    }
   ],
   "source": [
    "example = []\n",
    "for i in range(45):\n",
    "    example.append(i+1)\n",
    "    \n",
    "%matplotlib inline\n",
    "import matplotlib.pyplot as plt\n",
    "plt.figure(figsize=(12,5))\n",
    "plt.gca().set_color_cycle(['blue','red'])\n",
    "plt.plot(example, y_test_sort)\n",
    "plt.plot(example, predictions_sort)\n",
    "plt.ylabel('Winning Percentage')\n",
    "plt.xlabel('Team Stats')\n",
    "plt.legend(['records', 'Predictions'], loc='lower right')\n",
    "plt.show()"
   ]
  },
  {
   "cell_type": "markdown",
   "metadata": {},
   "source": [
    "It seems like that the combination of these indicators obtained the merit score of R^2: 0.45"
   ]
  },
  {
   "cell_type": "markdown",
   "metadata": {},
   "source": [
    "Let's try different combination of 3 point shooting indicators to see if we can fit the data better."
   ]
  },
  {
   "cell_type": "markdown",
   "metadata": {},
   "source": [
    "# (2) inputs: 3PM, 3P%, eFG%, 1-opp 3P% in 2011-2017"
   ]
  },
  {
   "cell_type": "code",
   "execution_count": 157,
   "metadata": {
    "collapsed": true
   },
   "outputs": [],
   "source": [
    "X = np.genfromtxt(\"All-stat-opp.csv\",delimiter=\" \") # data: # 3 made pg, percentage, eFG%, 1- opp 3%\n",
    "y = np.genfromtxt(\"All-win-perc.csv\",delimiter=\" \") # target\n",
    "# Split the data into trainning sets and testing sets\n",
    "from sklearn.model_selection import train_test_split\n",
    "X_train, X_test, y_train, y_test = train_test_split(X, y)\n",
    "# normalize and scale the data\n",
    "from sklearn.preprocessing import StandardScaler\n",
    "scaler = StandardScaler()\n",
    "# Fit only to the training data\n",
    "scaler.fit(X_train)\n",
    "# apply the transformations to the data:\n",
    "X_train = scaler.transform(X_train)\n",
    "X_test = scaler.transform(X_test)"
   ]
  },
  {
   "cell_type": "code",
   "execution_count": 158,
   "metadata": {
    "collapsed": false
   },
   "outputs": [
    {
     "data": {
      "text/plain": [
       "MLPRegressor(activation='relu', alpha=0.0001, batch_size='auto', beta_1=0.9,\n",
       "       beta_2=0.999, early_stopping=False, epsilon=1e-08,\n",
       "       hidden_layer_sizes=(3, 4, 3), learning_rate='constant',\n",
       "       learning_rate_init=0.001, max_iter=200, momentum=0.9,\n",
       "       nesterovs_momentum=True, power_t=0.5, random_state=None,\n",
       "       shuffle=True, solver='lbfgs', tol=0.0001, validation_fraction=0.1,\n",
       "       verbose=False, warm_start=False)"
      ]
     },
     "execution_count": 158,
     "metadata": {},
     "output_type": "execute_result"
    }
   ],
   "source": [
    "from sklearn.neural_network import MLPRegressor #(1)\n",
    "mlp = MLPRegressor(hidden_layer_sizes=(3,4,3),max_iter=200,solver='lbfgs') #(2)\n",
    "mlp.fit(X_train,y_train) #(3)"
   ]
  },
  {
   "cell_type": "code",
   "execution_count": 159,
   "metadata": {
    "collapsed": true
   },
   "outputs": [],
   "source": [
    "predictions = mlp.predict(X_test)"
   ]
  },
  {
   "cell_type": "code",
   "execution_count": 160,
   "metadata": {
    "collapsed": false
   },
   "outputs": [
    {
     "data": {
      "text/plain": [
       "0.61527170602588077"
      ]
     },
     "execution_count": 160,
     "metadata": {},
     "output_type": "execute_result"
    }
   ],
   "source": [
    "mlp.score(X_test, y_test, sample_weight=None)"
   ]
  },
  {
   "cell_type": "code",
   "execution_count": 161,
   "metadata": {
    "collapsed": false
   },
   "outputs": [
    {
     "name": "stderr",
     "output_type": "stream",
     "text": [
      "//anaconda/lib/python3.5/site-packages/matplotlib/cbook.py:137: MatplotlibDeprecationWarning: The set_color_cycle attribute was deprecated in version 1.5. Use set_prop_cycle instead.\n",
      "  warnings.warn(message, mplDeprecation, stacklevel=1)\n"
     ]
    },
    {
     "data": {
      "image/png": "[encoded data removed]",
      "text/plain": [
       "<matplotlib.figure.Figure at 0x113903cf8>"
      ]
     },
     "metadata": {},
     "output_type": "display_data"
    }
   ],
   "source": [
    "ind = y_test.argsort()\n",
    "y_test_sort = y_test[ind]\n",
    "predictions_sort = predictions[ind]\n",
    "\n",
    "example = []\n",
    "for i in range(45):\n",
    "    example.append(i+1)\n",
    "    \n",
    "%matplotlib inline\n",
    "import matplotlib.pyplot as plt\n",
    "plt.figure(figsize=(12,5))\n",
    "plt.gca().set_color_cycle(['blue','red'])\n",
    "plt.plot(example, y_test_sort)\n",
    "plt.plot(example, predictions_sort)\n",
    "plt.ylabel('Winning Percentage')\n",
    "plt.xlabel('Team Stats')\n",
    "plt.legend(['records', 'Predictions'], loc='lower right')\n",
    "plt.show()"
   ]
  },
  {
   "cell_type": "markdown",
   "metadata": {},
   "source": [
    "Adding defensive indicator (opp 3%) did increase the merit score of R^2: 0.61"
   ]
  },
  {
   "cell_type": "markdown",
   "metadata": {},
   "source": [
    "Let's cut out the data of 2011-2014 to see if the winning is more correlated with 3 point shooting recently. Here I also add one more defensive indicator, opp eFG%."
   ]
  },
  {
   "cell_type": "markdown",
   "metadata": {},
   "source": [
    "# (3) inputs: 3PM, 3P%, eFG%, 1-opp 3P%, 1-eFG% in 2014-2017"
   ]
  },
  {
   "cell_type": "code",
   "execution_count": 239,
   "metadata": {
    "collapsed": false
   },
   "outputs": [],
   "source": [
    "X = np.genfromtxt(\"All-stat-opp-eFG-cut.csv\",delimiter=\" \") # data: # 3 made pg, percentage, eFG%, 1- opp 3%\n",
    "y = np.genfromtxt(\"All-win-perc-cut.csv\",delimiter=\" \") # target\n",
    "# Split the data into trainning sets and testing sets\n",
    "from sklearn.model_selection import train_test_split\n",
    "X_train, X_test, y_train, y_test = train_test_split(X, y)\n",
    "# normalize and scale the data\n",
    "from sklearn.preprocessing import StandardScaler\n",
    "scaler = StandardScaler()\n",
    "# Fit only to the training data\n",
    "scaler.fit(X_train)\n",
    "# apply the transformations to the data:\n",
    "X_train = scaler.transform(X_train)\n",
    "X_test = scaler.transform(X_test)"
   ]
  },
  {
   "cell_type": "code",
   "execution_count": 240,
   "metadata": {
    "collapsed": false
   },
   "outputs": [
    {
     "data": {
      "text/plain": [
       "MLPRegressor(activation='relu', alpha=0.0001, batch_size='auto', beta_1=0.9,\n",
       "       beta_2=0.999, early_stopping=False, epsilon=1e-08,\n",
       "       hidden_layer_sizes=(3, 4, 3), learning_rate='constant',\n",
       "       learning_rate_init=0.001, max_iter=200, momentum=0.9,\n",
       "       nesterovs_momentum=True, power_t=0.5, random_state=None,\n",
       "       shuffle=True, solver='lbfgs', tol=0.0001, validation_fraction=0.1,\n",
       "       verbose=False, warm_start=False)"
      ]
     },
     "execution_count": 240,
     "metadata": {},
     "output_type": "execute_result"
    }
   ],
   "source": [
    "from sklearn.neural_network import MLPRegressor #(1)\n",
    "mlp = MLPRegressor(hidden_layer_sizes=(3,4,3),max_iter=200,solver='lbfgs') #(2)\n",
    "mlp.fit(X_train,y_train) #(3)"
   ]
  },
  {
   "cell_type": "code",
   "execution_count": 241,
   "metadata": {
    "collapsed": true
   },
   "outputs": [],
   "source": [
    "predictions = mlp.predict(X_test)"
   ]
  },
  {
   "cell_type": "code",
   "execution_count": 242,
   "metadata": {
    "collapsed": false
   },
   "outputs": [
    {
     "data": {
      "text/plain": [
       "0.75945358631845261"
      ]
     },
     "execution_count": 242,
     "metadata": {},
     "output_type": "execute_result"
    }
   ],
   "source": [
    "mlp.score(X_test, y_test, sample_weight=None)"
   ]
  },
  {
   "cell_type": "code",
   "execution_count": 243,
   "metadata": {
    "collapsed": false
   },
   "outputs": [
    {
     "name": "stderr",
     "output_type": "stream",
     "text": [
      "//anaconda/lib/python3.5/site-packages/matplotlib/cbook.py:137: MatplotlibDeprecationWarning: The set_color_cycle attribute was deprecated in version 1.5. Use set_prop_cycle instead.\n",
      "  warnings.warn(message, mplDeprecation, stacklevel=1)\n"
     ]
    },
    {
     "data": {
      "image/png": "[encoded data removed]",
      "text/plain": [
       "<matplotlib.figure.Figure at 0x113aa29b0>"
      ]
     },
     "metadata": {},
     "output_type": "display_data"
    }
   ],
   "source": [
    "ind = y_test.argsort()\n",
    "y_test_sort = y_test[ind]\n",
    "predictions_sort = predictions[ind]\n",
    "\n",
    "example = []\n",
    "for i in range(23):\n",
    "    example.append(i+1)\n",
    "    \n",
    "%matplotlib inline\n",
    "import matplotlib.pyplot as plt\n",
    "plt.figure(figsize=(12,5))\n",
    "plt.gca().set_color_cycle(['blue','red'])\n",
    "plt.plot(example, y_test_sort)\n",
    "plt.plot(example, predictions_sort)\n",
    "plt.ylabel('Winning Percentage')\n",
    "plt.xlabel('Team Stats')\n",
    "plt.legend(['records', 'Predictions'], loc='lower right')\n",
    "plt.show()"
   ]
  },
  {
   "cell_type": "markdown",
   "metadata": {},
   "source": [
    "With two defensive indicators, the merit score of R^2 increased to 0.76, which may be the best we can get here. "
   ]
  },
  {
   "cell_type": "markdown",
   "metadata": {},
   "source": [
    "# Predictions"
   ]
  },
  {
   "cell_type": "markdown",
   "metadata": {},
   "source": [
    "Based on the indicators (3PM, 3P%, eFG%, 1-opp 3P%, 1-eFG%) of played games in 2016-2017 season, I used trained algorithm to predict final 2017 results (Win, Lose, Win%)"
   ]
  },
  {
   "cell_type": "code",
   "execution_count": 244,
   "metadata": {
    "collapsed": true
   },
   "outputs": [],
   "source": [
    "Target = np.genfromtxt(\"2017-03-02.csv\",delimiter=\" \") # target"
   ]
  },
  {
   "cell_type": "code",
   "execution_count": 248,
   "metadata": {
    "collapsed": false
   },
   "outputs": [],
   "source": [
    "Target = scaler.transform(Target)\n",
    "prediction_target = mlp.predict(Target)\n",
    "np.savetxt(\"prediction_teams_2017.csv\", prediction_target, delimiter=\"  \", fmt='%.3E')"
   ]
  },
  {
   "cell_type": "markdown",
   "metadata": {},
   "source": [
    "# Summary"
   ]
  },
  {
   "cell_type": "markdown",
   "metadata": {},
   "source": [
    "3 point shooting is related to winning in the NBA. Five best 3 point shooting indicators were used to predict winning percentage and 2016-2017 final results.\n",
    "\n",
    "Five best 3 point shooting indicators: (1) 3 pointer made per game, (2) 3 pointer percentage, (3) effective field goal percentage, (4) opponent's 3 pointer %, and (5) opponent's effective field goal percentage. "
   ]
  },
  {
   "cell_type": "markdown",
   "metadata": {},
   "source": [
    "# Future Works"
   ]
  },
  {
   "cell_type": "markdown",
   "metadata": {},
   "source": [
    "Dig into game by game statistics. Include recent trades and impact of injuries.\n"
   ]
  },
  {
   "cell_type": "code",
   "execution_count": null,
   "metadata": {
    "collapsed": true
   },
   "outputs": [],
   "source": []
  }
 ],
 "metadata": {
  "anaconda-cloud": {},
  "celltoolbar": "Raw Cell Format",
  "kernelspec": {
   "display_name": "Python [Root]",
   "language": "python",
   "name": "Python [Root]"
  },
  "language_info": {
   "codemirror_mode": {
    "name": "ipython",
    "version": 3
   },
   "file_extension": ".py",
   "mimetype": "text/x-python",
   "name": "python",
   "nbconvert_exporter": "python",
   "pygments_lexer": "ipython3",
   "version": "3.5.2"
  }
 },
 "nbformat": 4,
 "nbformat_minor": 0
}
